{
 "cells": [
  {
   "cell_type": "code",
   "execution_count": null,
   "id": "3c0b7ce8",
   "metadata": {},
   "outputs": [],
   "source": [
    "Continuation with string data type :\n",
    "    "
   ]
  },
  {
   "cell_type": "code",
   "execution_count": 1,
   "id": "1a099336",
   "metadata": {},
   "outputs": [],
   "source": [
    "first_name = 'bharat'\n",
    "last_name = 'reddy'"
   ]
  },
  {
   "cell_type": "code",
   "execution_count": null,
   "id": "02b760d6",
   "metadata": {},
   "outputs": [],
   "source": [
    "I want to get the full name ? by using py progtamming "
   ]
  },
  {
   "cell_type": "code",
   "execution_count": null,
   "id": "5a2c4ef0",
   "metadata": {},
   "outputs": [],
   "source": [
    "Unnderstanding the concept f'' string --\n"
   ]
  },
  {
   "cell_type": "code",
   "execution_count": null,
   "id": "f0197e02",
   "metadata": {},
   "outputs": [],
   "source": [
    "#general syntax of f string--"
   ]
  },
  {
   "cell_type": "code",
   "execution_count": null,
   "id": "27aaf66e",
   "metadata": {},
   "outputs": [],
   "source": [
    "f\" custom words {place_holder -1} {place_holder -2}.... {place_holder -n}\""
   ]
  },
  {
   "cell_type": "code",
   "execution_count": null,
   "id": "5717fb79",
   "metadata": {},
   "outputs": [],
   "source": []
  },
  {
   "cell_type": "code",
   "execution_count": 5,
   "id": "e544328c",
   "metadata": {},
   "outputs": [
    {
     "name": "stdout",
     "output_type": "stream",
     "text": [
      "bharat reddy\n"
     ]
    }
   ],
   "source": [
    "full_name = f\"{first_name} {last_name}\"\n",
    "print(full_name)"
   ]
  },
  {
   "cell_type": "code",
   "execution_count": 6,
   "id": "ec334ff5",
   "metadata": {},
   "outputs": [],
   "source": [
    "message = f\"keep up the good work,{full_name}\""
   ]
  },
  {
   "cell_type": "code",
   "execution_count": 7,
   "id": "43bfbc11",
   "metadata": {},
   "outputs": [
    {
     "name": "stdout",
     "output_type": "stream",
     "text": [
      "bharat reddy\n"
     ]
    }
   ],
   "source": [
    "print(full_name)"
   ]
  },
  {
   "cell_type": "code",
   "execution_count": 8,
   "id": "4602279e",
   "metadata": {},
   "outputs": [
    {
     "name": "stdout",
     "output_type": "stream",
     "text": [
      "keep up the good work,Bharat Reddy\n"
     ]
    }
   ],
   "source": [
    "message = f\"keep up the good work,{full_name.title()}\"\n",
    "print(message)"
   ]
  },
  {
   "cell_type": "code",
   "execution_count": 12,
   "id": "36f3ba25",
   "metadata": {},
   "outputs": [
    {
     "name": "stdout",
     "output_type": "stream",
     "text": [
      "keep up the good work, bharat reddy\n"
     ]
    }
   ],
   "source": [
    "message = f\"keep up the good work, {full_name.lower()}\"\n",
    "print(message)"
   ]
  },
  {
   "cell_type": "code",
   "execution_count": 14,
   "id": "f347f056",
   "metadata": {},
   "outputs": [
    {
     "name": "stdout",
     "output_type": "stream",
     "text": [
      "keep up the good work, <built-in method upper of str object at 0x000001413AEA1370>\n"
     ]
    }
   ],
   "source": [
    "message = f\"keep up the good work, {full_name.upper}\"\n",
    "print(message)"
   ]
  },
  {
   "cell_type": "code",
   "execution_count": null,
   "id": "8d673a0d",
   "metadata": {},
   "outputs": [],
   "source": []
  },
  {
   "cell_type": "code",
   "execution_count": null,
   "id": "22910770",
   "metadata": {},
   "outputs": [],
   "source": [
    "concept : adding the white spaces:\n",
    "        "
   ]
  },
  {
   "cell_type": "code",
   "execution_count": 15,
   "id": "b001b372",
   "metadata": {},
   "outputs": [
    {
     "name": "stdout",
     "output_type": "stream",
     "text": [
      "fav_program_language:pythonsalesforcejavac++\n"
     ]
    }
   ],
   "source": [
    "print(\"fav_program_language:pythonsalesforcejavac++\")"
   ]
  },
  {
   "cell_type": "code",
   "execution_count": null,
   "id": "2413c006",
   "metadata": {},
   "outputs": [],
   "source": [
    "the concept comes in this /n , new line delimiter , next line print :"
   ]
  },
  {
   "cell_type": "code",
   "execution_count": 16,
   "id": "95a9a067",
   "metadata": {},
   "outputs": [
    {
     "name": "stdout",
     "output_type": "stream",
     "text": [
      "fav_program_language:python/nsalesforce/n/njavac++\n"
     ]
    }
   ],
   "source": [
    "print(\"fav_program_language:python/nsalesforce/n/njavac++\")"
   ]
  },
  {
   "cell_type": "code",
   "execution_count": 18,
   "id": "940428c1",
   "metadata": {},
   "outputs": [
    {
     "name": "stdout",
     "output_type": "stream",
     "text": [
      "fav_program_language:python\n",
      "sales\n",
      "force\n",
      "java\n",
      "c++\n",
      "world\n"
     ]
    }
   ],
   "source": [
    "print(\"fav_program_language:python\\nsales\\nforce\\njava\\nc++\\nworld\")"
   ]
  },
  {
   "cell_type": "code",
   "execution_count": null,
   "id": "5d4de76e",
   "metadata": {},
   "outputs": [],
   "source": []
  },
  {
   "cell_type": "code",
   "execution_count": null,
   "id": "ce62fece",
   "metadata": {},
   "outputs": [],
   "source": [
    "\\t----> tab delimiter"
   ]
  },
  {
   "cell_type": "code",
   "execution_count": 22,
   "id": "6c0ecc5a",
   "metadata": {},
   "outputs": [
    {
     "name": "stdout",
     "output_type": "stream",
     "text": [
      "fav_program_language:\n",
      "\tpython\n",
      "\tsales\n",
      "\tforce\n",
      "\tjava\n",
      "\tc++\n",
      "\tworld\n"
     ]
    }
   ],
   "source": [
    "print(\"fav_program_language:\\n\\tpython\\n\\tsales\\n\\tforce\\n\\tjava\\n\\tc++\\n\\tworld\")"
   ]
  },
  {
   "cell_type": "code",
   "execution_count": null,
   "id": "a75b8e26",
   "metadata": {},
   "outputs": [],
   "source": [
    "removing the whitespaces from string:"
   ]
  },
  {
   "cell_type": "code",
   "execution_count": 23,
   "id": "c1f4c429",
   "metadata": {},
   "outputs": [
    {
     "name": "stdout",
     "output_type": "stream",
     "text": [
      "prashanth\n"
     ]
    }
   ],
   "source": [
    "name ='prashanth'\n",
    "print(name)"
   ]
  },
  {
   "cell_type": "code",
   "execution_count": 25,
   "id": "a4b8787c",
   "metadata": {},
   "outputs": [
    {
     "name": "stdout",
     "output_type": "stream",
     "text": [
      "            prashanth\n"
     ]
    }
   ],
   "source": [
    "name2='            prashanth'\n",
    "print(name2)"
   ]
  },
  {
   "cell_type": "code",
   "execution_count": 27,
   "id": "2fc93f17",
   "metadata": {},
   "outputs": [
    {
     "name": "stdout",
     "output_type": "stream",
     "text": [
      "prashanth           \n"
     ]
    }
   ],
   "source": [
    "name3= 'prashanth           '\n",
    "print(name3)"
   ]
  },
  {
   "cell_type": "code",
   "execution_count": 28,
   "id": "b7a0430e",
   "metadata": {},
   "outputs": [
    {
     "data": {
      "text/plain": [
       "'prashanth'"
      ]
     },
     "execution_count": 28,
     "metadata": {},
     "output_type": "execute_result"
    }
   ],
   "source": [
    "name2.lstrip()"
   ]
  },
  {
   "cell_type": "code",
   "execution_count": 29,
   "id": "c28348e9",
   "metadata": {},
   "outputs": [
    {
     "data": {
      "text/plain": [
       "'prashanth'"
      ]
     },
     "execution_count": 29,
     "metadata": {},
     "output_type": "execute_result"
    }
   ],
   "source": [
    "name3.rstrip()"
   ]
  },
  {
   "cell_type": "code",
   "execution_count": null,
   "id": "6d08969a",
   "metadata": {},
   "outputs": [],
   "source": [
    "lstrip and rstrip are eliminate the gaps strip"
   ]
  },
  {
   "cell_type": "code",
   "execution_count": null,
   "id": "002b40bc",
   "metadata": {},
   "outputs": [],
   "source": []
  },
  {
   "cell_type": "code",
   "execution_count": 32,
   "id": "cfa2681e",
   "metadata": {},
   "outputs": [
    {
     "name": "stdout",
     "output_type": "stream",
     "text": [
      "   prasha     \n"
     ]
    }
   ],
   "source": [
    "name4 = '   prasha     '\n",
    "print(name4)\n"
   ]
  },
  {
   "cell_type": "code",
   "execution_count": 33,
   "id": "934efbdf",
   "metadata": {},
   "outputs": [
    {
     "data": {
      "text/plain": [
       "'prasha'"
      ]
     },
     "execution_count": 33,
     "metadata": {},
     "output_type": "execute_result"
    }
   ],
   "source": [
    "name4.strip()  #search operation + execute .. real time project for loading this space will be creating more data , more time to fetch"
   ]
  },
  {
   "cell_type": "code",
   "execution_count": null,
   "id": "50937725",
   "metadata": {},
   "outputs": [],
   "source": []
  }
 ],
 "metadata": {
  "kernelspec": {
   "display_name": "Python 3 (ipykernel)",
   "language": "python",
   "name": "python3"
  },
  "language_info": {
   "codemirror_mode": {
    "name": "ipython",
    "version": 3
   },
   "file_extension": ".py",
   "mimetype": "text/x-python",
   "name": "python",
   "nbconvert_exporter": "python",
   "pygments_lexer": "ipython3",
   "version": "3.9.13"
  }
 },
 "nbformat": 4,
 "nbformat_minor": 5
}
